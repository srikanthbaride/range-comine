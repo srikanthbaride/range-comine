{
 "cells": [
  {
   "cell_type": "markdown",
   "id": "e46236b8",
   "metadata": {},
   "source": [
    "# Lattice View for ColList\n",
    "\n",
    "This notebook computes `ColList` using Range–CoMine on a small dataset and **visualizes the pattern lattice** grouped by critical distance levels."
   ]
  },
  {
   "cell_type": "code",
   "execution_count": null,
   "id": "aa6b3af8",
   "metadata": {},
   "outputs": [],
   "source": [
    "\n",
    "# Imports\n",
    "from range_comine.synthetic import generate_synthetic\n",
    "from range_comine.mining import range_comine\n",
    "import itertools, math\n",
    "import matplotlib.pyplot as plt\n"
   ]
  },
  {
   "cell_type": "code",
   "execution_count": null,
   "id": "91a41ac5",
   "metadata": {},
   "outputs": [],
   "source": [
    "\n",
    "# Generate data and run\n",
    "objs = generate_synthetic(n_features=4, instances_per_feat=5, seed=7)\n",
    "ColList = range_comine(objs, d1=8.0, d2=30.0, min_prev=0.5)\n",
    "ColList\n"
   ]
  },
  {
   "cell_type": "markdown",
   "id": "26dd5a82",
   "metadata": {},
   "source": [
    "## Helper: subset relation\n",
    "We’ll treat each pattern as a sorted tuple of feature labels and connect nodes if one is a **(k−1)**-subset of the other."
   ]
  },
  {
   "cell_type": "code",
   "execution_count": null,
   "id": "1f5406e5",
   "metadata": {},
   "outputs": [],
   "source": [
    "\n",
    "def as_tuple(p):\n",
    "    return tuple(sorted(p))\n",
    "\n",
    "# Build a level-wise structure: list of (d, [patterns])\n",
    "levels = sorted([(d, [as_tuple(p) for p in pats]) for d, pats in ColList.items()], key=lambda x: x[0])\n",
    "\n",
    "# Map pattern -> (level_idx, x_pos)\n",
    "positions = {}\n",
    "edges = []  # (parent, child)\n",
    "x_spacing = 1.6\n",
    "\n",
    "for li, (d, pats) in enumerate(levels):\n",
    "    # group by size for nicer horizontal spread\n",
    "    by_k = {}\n",
    "    for p in pats:\n",
    "        by_k.setdefault(len(p), []).append(p)\n",
    "    xs = {}\n",
    "    # lay out by_k in ascending k\n",
    "    x_cursor = 0.0\n",
    "    for k in sorted(by_k.keys()):\n",
    "        group = sorted(set(by_k[k]))\n",
    "        for p in group:\n",
    "            positions[p] = (li, x_cursor)\n",
    "            x_cursor += x_spacing\n",
    "    # edges: if q is a superset of p and |q|=|p|+1 and both present (maybe at the same level if same critical distance)\n",
    "for (li, (d, pats)) in enumerate(levels):\n",
    "    set_pats = set(pats)\n",
    "    for q in pats:\n",
    "        for i in range(len(q)):\n",
    "            parent = tuple(q[:i] + q[i+1:])\n",
    "            if parent in set_pats:\n",
    "                edges.append((parent, q))\n"
   ]
  },
  {
   "cell_type": "markdown",
   "id": "87fbddff",
   "metadata": {},
   "source": [
    "## Plot lattice\n",
    "Nodes are grouped along the vertical axis by **critical distance** level; arrows show subset → superset (if they share the same critical distance)."
   ]
  },
  {
   "cell_type": "code",
   "execution_count": null,
   "id": "6df68fa6",
   "metadata": {},
   "outputs": [],
   "source": [
    "\n",
    "plt.figure(figsize=(10, 6))\n",
    "\n",
    "# y = level index (0 at bottom); we invert to have smallest critical distance at bottom\n",
    "for p, (li, x) in positions.items():\n",
    "    y = li\n",
    "    label = \"\".join(p)\n",
    "    plt.scatter([x], [y])\n",
    "    plt.text(x, y + 0.05, label, ha=\"center\", va=\"bottom\", fontsize=10)\n",
    "\n",
    "# draw edges (subset to superset) within the same level\n",
    "for a, b in edges:\n",
    "    ya = positions[a][0]\n",
    "    yb = positions[b][0]\n",
    "    if ya == yb:\n",
    "        xa = positions[a][1]\n",
    "        xb = positions[b][1]\n",
    "        plt.arrow(xa, ya, xb - xa, yb - ya, length_includes_head=True, head_width=0.08, head_length=0.12)\n",
    "\n",
    "# y ticks as critical distance values\n",
    "y_ticks = list(range(len(levels)))\n",
    "y_labels = [f\"d={d:.2f}\" for (d, _) in levels]\n",
    "plt.yticks(y_ticks, y_labels)\n",
    "\n",
    "plt.xlabel(\"Patterns laid out horizontally\")\n",
    "plt.ylabel(\"Critical distance levels\")\n",
    "plt.title(\"ColList Lattice (within-level subset links)\")\n",
    "plt.grid(True, linestyle=\"--\", alpha=0.4)\n",
    "plt.tight_layout()\n"
   ]
  },
  {
   "cell_type": "markdown",
   "id": "9a2d8b61",
   "metadata": {},
   "source": [
    "### Tip\n",
    "If you want cross-level edges (parent at smaller critical distance than child), uncomment the following cell and re-run."
   ]
  },
  {
   "cell_type": "code",
   "execution_count": null,
   "id": "c9455a49",
   "metadata": {},
   "outputs": [],
   "source": [
    "\n",
    "# Cross-level edges (optional)\n",
    "# plt.figure(figsize=(10, 6))\n",
    "# for p, (li, x) in positions.items():\n",
    "#     y = li\n",
    "#     label = \"\".join(p)\n",
    "#     plt.scatter([x], [y])\n",
    "#     plt.text(x, y + 0.05, label, ha=\"center\", va=\"bottom\", fontsize=10)\n",
    "# for li, (d, pats) in enumerate(levels):\n",
    "#     for q in pats:\n",
    "#         for i in range(len(q)):\n",
    "#             parent = tuple(q[:i] + q[i+1:])\n",
    "#             # search parent at any level\n",
    "#             if parent in positions:\n",
    "#                 xa, ya = positions[parent]\n",
    "#                 xb, yb = positions[q]\n",
    "#                 plt.arrow(xa, ya, xb - xa, yb - ya, length_includes_head=True, head_width=0.08, head_length=0.12)\n",
    "# y_ticks = list(range(len(levels)))\n",
    "# y_labels = [f\"d={d:.2f}\" for (d, _) in levels]\n",
    "# plt.yticks(y_ticks, y_labels)\n",
    "# plt.xlabel(\"Patterns laid out horizontally\")\n",
    "# plt.ylabel(\"Critical distance levels\")\n",
    "# plt.title(\"ColList Lattice (cross-level subset links)\")\n",
    "# plt.grid(True, linestyle=\"--\", alpha=0.4)\n",
    "# plt.tight_layout()\n"
   ]
  }
 ],
 "metadata": {},
 "nbformat": 4,
 "nbformat_minor": 5
}
